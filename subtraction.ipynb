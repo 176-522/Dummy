{
 "cells": [
  {
   "cell_type": "code",
   "execution_count": 2,
   "id": "7337d39f",
   "metadata": {},
   "outputs": [],
   "source": [
    "b = 104"
   ]
  },
  {
   "cell_type": "code",
   "execution_count": 1,
   "id": "8d1d0c19",
   "metadata": {},
   "outputs": [],
   "source": [
    "c = 20"
   ]
  },
  {
   "cell_type": "code",
   "execution_count": 3,
   "id": "7125e521",
   "metadata": {},
   "outputs": [],
   "source": [
    "f = b - c"
   ]
  },
  {
   "cell_type": "code",
   "execution_count": 4,
   "id": "792d90e6",
   "metadata": {},
   "outputs": [
    {
     "name": "stdout",
     "output_type": "stream",
     "text": [
      "subtraction 84\n"
     ]
    }
   ],
   "source": [
    "print(\"subtraction\", f)"
   ]
  }
 ],
 "metadata": {
  "kernelspec": {
   "display_name": "Python 3",
   "language": "python",
   "name": "python3"
  },
  "language_info": {
   "codemirror_mode": {
    "name": "ipython",
    "version": 3
   },
   "file_extension": ".py",
   "mimetype": "text/x-python",
   "name": "python",
   "nbconvert_exporter": "python",
   "pygments_lexer": "ipython3",
   "version": "3.10.11"
  }
 },
 "nbformat": 4,
 "nbformat_minor": 5
}
