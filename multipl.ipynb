{
 "cells": [
  {
   "cell_type": "code",
   "execution_count": 2,
   "id": "ae0ddeda",
   "metadata": {},
   "outputs": [],
   "source": [
    "b = 200\n",
    "d = 200"
   ]
  },
  {
   "cell_type": "code",
   "execution_count": 4,
   "id": "5b95c663",
   "metadata": {},
   "outputs": [],
   "source": [
    "c = b * d"
   ]
  },
  {
   "cell_type": "code",
   "execution_count": 5,
   "id": "bdce6b5a",
   "metadata": {},
   "outputs": [
    {
     "name": "stdout",
     "output_type": "stream",
     "text": [
      "addition 40000\n"
     ]
    }
   ],
   "source": [
    "print(\"addition\", c);"
   ]
  }
 ],
 "metadata": {
  "kernelspec": {
   "display_name": "Python 3",
   "language": "python",
   "name": "python3"
  },
  "language_info": {
   "codemirror_mode": {
    "name": "ipython",
    "version": 3
   },
   "file_extension": ".py",
   "mimetype": "text/x-python",
   "name": "python",
   "nbconvert_exporter": "python",
   "pygments_lexer": "ipython3",
   "version": "3.10.11"
  }
 },
 "nbformat": 4,
 "nbformat_minor": 5
}
